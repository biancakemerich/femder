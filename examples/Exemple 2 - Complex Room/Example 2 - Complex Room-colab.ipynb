{
 "cells": [
  {
   "cell_type": "markdown",
   "metadata": {},
   "source": [
    "<a href=\"https://colab.research.google.com/github/gutoalvim/femder/blob/master/examples/Exemple%201%20-%20Validation/Example_1_Validation.ipynb\" target=\"_parent\"><img src=\"https://colab.research.google.com/assets/colab-badge.svg\" alt=\"Open In Colab\"/></a>"
   ]
  },
  {
   "cell_type": "code",
   "execution_count": null,
   "metadata": {},
   "outputs": [],
   "source": [
    "%%capture\n",
    "!pip install meshio tqdm cloudpickle pymoo matplotlib seaborn\n",
    "!pip3 install numba==0.51.2\n",
    "!pip install gmsh==4.10.5\n",
    "!pip install -U kaleido\n",
    "!pip install plotly --upgrade\n",
    "!pip install git+https://github.com/rinaldipp/pyMKL\n",
    "!pip install git+https://github.com/rinaldipp/tmm\n",
    "!pip install git+https://github.com/pyttamaster/pytta@development\n",
    "!sudo apt-get install libportaudio2\n",
    "\n",
    "import sys\n",
    "!git clone https://github.com/gutoalvim/femder.git femder_\n",
    "sys.path.append('femder_')\n",
    "import sys\n",
    "sys.path.append('/usr/local/lib/python3.7/site-packages/gmsh-4.10.5-Linux64-sdk/lib')\n"
   ]
  },
  {
   "cell_type": "code",
   "execution_count": null,
   "metadata": {},
   "outputs": [],
   "source": [
    "import sys\n",
    "import femder as fd\n",
    "import numpy as np\n",
    "import matplotlib.pyplot as plt\n",
    "import plotly.io as pio\n",
    "fmax=5000"
   ]
  },
  {
   "cell_type": "markdown",
   "metadata": {
    "tags": []
   },
   "source": [
    "# Treatments"
   ]
  },
  {
   "cell_type": "markdown",
   "metadata": {
    "jp-MarkdownHeadingCollapsed": true,
    "tags": []
   },
   "source": [
    "## MODEX"
   ]
  },
  {
   "cell_type": "code",
   "execution_count": null,
   "metadata": {},
   "outputs": [],
   "source": [
    "tmmM = fd.TMM(fmin=20,fmax=fmax,df=1,incidence='diffuse')\n",
    "\n",
    "X_ = [1.000e+00, 5.718e+03, 2.230e+02, 8.000e+00, 3.400e+01, 2.100e+01, 1.400e+01,\n",
    " 1.000e+01, 1.600e+01, 2.310e+02, 5.000e+00, 1.980e+02, 5.000e+00]\n",
    "\n",
    "tmmM.perforated_panel_layer(t=40, d=4, s=15)\n",
    "tmmM.porous_layer(model='mac', t=X_[11], sigma=X_[12])\n",
    "tmmM.membrane_layer(t=X_[0], rho=X_[1])\n",
    "\n",
    "tmmM.porous_layer(model='mac', t=X_[2], sigma=X_[3])\n",
    "tmmM.air_layer(t=X_[4])\n",
    "tmmM.perforated_panel_layer(t=X_[5],d = X_[6], s=X_[7])\n",
    "tmmM.porous_layer(model='mac', t=X_[9], sigma=X_[10])\n",
    "tmmM.air_layer(t=X_[8])\n",
    "\n",
    "tmmM.compute(rigid_backing=True, show_layers=False)\n",
    "# tmm.save2sheet(timestamp=False, filename='modex', nthOct=1)\n",
    "# np.savetxt('modex.txt',np.array(([tmm.freq,np.real(tmm.z),np.imag(tmm.z)])).T)"
   ]
  },
  {
   "cell_type": "markdown",
   "metadata": {
    "jp-MarkdownHeadingCollapsed": true,
    "tags": []
   },
   "source": [
    "## 66 Hz"
   ]
  },
  {
   "cell_type": "code",
   "execution_count": null,
   "metadata": {},
   "outputs": [],
   "source": [
    "tmm66 = fd.TMM(fmin=20, fmax=fmax,df=1,  incidence='normal')\n",
    "tmm66.slotted_panel_layer(t=250, w=2, s=30, method='barrier')\n",
    "tmm66.porous_layer(model='mac', t=150, sigma=15)\n",
    "tmm66.compute(rigid_backing=True, show_layers=True, conj=False)\n",
    "tmm66.plot(figsize=(7, 5), plots=['alpha'], saveFig=False, timestamp=False, filename='miki_test')\n",
    "# tmm.save2sheet(timestamp=False, filename='slat_66Hz', nthOct=1)\n",
    "# np.savetxt('slat_66hz.txt',np.array(([tmm.freq.ravel(),np.real(tmm.z).ravel(),np.imag(tmm.z).ravel()])).T)"
   ]
  },
  {
   "cell_type": "markdown",
   "metadata": {
    "jp-MarkdownHeadingCollapsed": true,
    "tags": []
   },
   "source": [
    "## 116 Hz"
   ]
  },
  {
   "cell_type": "code",
   "execution_count": null,
   "metadata": {},
   "outputs": [],
   "source": [
    "tmm116 = fd.TMM(fmin=20, fmax=fmax,df=1,  incidence='normal')\n",
    "tmm116.slotted_panel_layer(t=150, w=2, s=30, method='barrier')\n",
    "tmm116.porous_layer(model='mac', t=150, sigma=15)\n",
    "tmm116.compute(rigid_backing=True, show_layers=True, conj=False)\n",
    "tmm116.plot(figsize=(7, 5), plots=['alpha'], saveFig=False, timestamp=False, filename='miki_test')\n",
    "# tmm.save2sheet(timestamp=False, filename='slat_116Hz', nthOct=1)\n",
    "# np.savetxt('slat_116hz.txt',np.array(([tmm.freq.ravel(),np.real(tmm.z).ravel(),np.imag(tmm.z).ravel()])).T)"
   ]
  },
  {
   "cell_type": "markdown",
   "metadata": {
    "jp-MarkdownHeadingCollapsed": true,
    "tags": []
   },
   "source": [
    "## 163 Hz"
   ]
  },
  {
   "cell_type": "code",
   "execution_count": null,
   "metadata": {},
   "outputs": [],
   "source": [
    "tmm163 = fd.TMM(fmin=20, fmax=fmax,df=1,  incidence='normal')\n",
    "tmm163.slotted_panel_layer(t=100, w=3, s=30, method='barrier')\n",
    "tmm163.porous_layer(model='mac', t=150, sigma=15)\n",
    "tmm163.compute(rigid_backing=True, show_layers=True, conj=False)\n",
    "tmm163.plot(figsize=(7, 5), plots=['alpha'], saveFig=False, timestamp=False, filename='miki_test')\n",
    "# tmm.save2sheet(timestamp=False, filename='slat_163Hz', nthOct=1)\n",
    "# np.savetxt('slat_163hz.txt',np.array(([tmm.freq.ravel(),np.real(tmm.z).ravel(),np.imag(tmm.z).ravel()])).T)"
   ]
  },
  {
   "cell_type": "markdown",
   "metadata": {
    "jp-MarkdownHeadingCollapsed": true,
    "tags": []
   },
   "source": [
    "## 230 Hz"
   ]
  },
  {
   "cell_type": "code",
   "execution_count": null,
   "metadata": {},
   "outputs": [],
   "source": [
    "tmm230 = fd.TMM(fmin=20, fmax=fmax,df=1,  incidence='normal')\n",
    "tmm230.slotted_panel_layer(t=75, w=5, s=30, method='barrier')\n",
    "tmm230.porous_layer(model='mac', t=150, sigma=30)\n",
    "tmm230.compute(rigid_backing=True, show_layers=True, conj=False)\n",
    "tmm230.plot(figsize=(7, 5), plots=['alpha'], saveFig=True, timestamp=False, filename='miki_test')\n",
    "# tmm.save2sheet(timestamp=False, filename='slat_230Hz', nthOct=1)\n",
    "# np.savetxt('slat_230hz.txt',np.array(([tmm.freq.ravel(),np.real(tmm.z).ravel(),np.imag(tmm.z).ravel()])).T)"
   ]
  },
  {
   "cell_type": "markdown",
   "metadata": {
    "jp-MarkdownHeadingCollapsed": true,
    "tags": []
   },
   "source": [
    "## Porous"
   ]
  },
  {
   "cell_type": "code",
   "execution_count": null,
   "metadata": {
    "scrolled": true
   },
   "outputs": [],
   "source": [
    "tmmP = fd.TMM(fmin=20, fmax=fmax,df=1, incidence='normal')\n",
    "tmmP.porous_layer(model='mac', t=150, sigma=15)\n",
    "tmmP.compute(rigid_backing=True, show_layers=True, conj=False)\n",
    "tmmP.plot(figsize=(7, 5), plots=['alpha'], saveFig=False, timestamp=False, filename='miki_test')\n",
    "# tmm.save2sheet(timestamp=False, filename='porous_150mm', nthOct=1)\n",
    "# np.savetxt('porous_150mm_15k.txt',np.array(([tmm.freq.ravel(),np.real(tmm.z).ravel(),np.imag(tmm.z).ravel()])).T)"
   ]
  },
  {
   "cell_type": "markdown",
   "metadata": {
    "tags": []
   },
   "source": [
    "# Simulation"
   ]
  },
  {
   "cell_type": "code",
   "execution_count": null,
   "metadata": {},
   "outputs": [],
   "source": [
    "import femder as fd\n",
    "\n",
    "path_to_geo = r'Geom\\example_2_with_treatment.geo'\n",
    "AP = fd.AirProperties(c0 = 343)\n",
    "AC = fd.AlgControls(AP,20,200,1)\n",
    "\n",
    "S = fd.Source(\"spherical\")\n",
    "S.coord = np.array([[1.53/2,2.7+1.32,1.14],[-1.53/2,2.7+1.32,1.14]])\n",
    "S.q = np.array([[0.0001],[0.0001]])\n",
    "        \n",
    "\n",
    "\n",
    "R = fd.Receiver()\n",
    "R.star([0,3.07,1.14],0.07)\n",
    "grid = fd.GridImport3D(AP,path_to_geo,S=S,R=None,fmax = 200,\n",
    "                       num_freq=8,scale=1,order=1, load_method=\"meshio\",\n",
    "                       heal_shapes=False)\n"
   ]
  },
  {
   "cell_type": "code",
   "execution_count": null,
   "metadata": {},
   "outputs": [],
   "source": [
    "bc = fd.BC(AC,AP)\n",
    "bc.normalized_admittance(2,0.02)\n",
    "bc.TMM(3, tmmP)\n",
    "bc.TMM(4, tmmM)\n",
    "bc.TMM(5, tmm66)\n",
    "bc.TMM(6, tmm116)\n",
    "bc.TMM(7, tmm163)\n",
    "bc.TMM(8, tmm230)\n",
    "obj = fd.FEM3D(grid,S,R,AP,AC,bc)"
   ]
  },
  {
   "cell_type": "markdown",
   "metadata": {
    "tags": []
   },
   "source": [
    "## Viz"
   ]
  },
  {
   "cell_type": "code",
   "execution_count": null,
   "metadata": {},
   "outputs": [],
   "source": [
    "fig = obj.plot_problem()"
   ]
  },
  {
   "cell_type": "markdown",
   "metadata": {
    "tags": []
   },
   "source": [
    "## Compute"
   ]
  },
  {
   "cell_type": "code",
   "execution_count": null,
   "metadata": {},
   "outputs": [],
   "source": [
    "%%time\n",
    "obj.compute()\n",
    "pN = obj.evaluate(R)"
   ]
  },
  {
   "cell_type": "markdown",
   "metadata": {},
   "source": [
    "## Benchmark\n",
    "\n",
    "20-100 - 1.29s\n",
    "\n",
    "20-150 - 4.35s\n",
    "\n",
    "20-200 - 12.7s\n",
    "\n",
    "20-250 - 30.5s\n",
    "\n",
    "20-300 - 74s\n",
    "\n",
    "20-350 - 154s\n",
    "\n",
    "20-400 - 313s 33536"
   ]
  },
  {
   "cell_type": "code",
   "execution_count": null,
   "metadata": {},
   "outputs": [],
   "source": [
    "obj.fem_save(\"example2_save\")"
   ]
  },
  {
   "cell_type": "code",
   "execution_count": null,
   "metadata": {},
   "outputs": [],
   "source": [
    "obj.plot_freq(show_fig=False, average=True)"
   ]
  },
  {
   "cell_type": "code",
   "execution_count": null,
   "metadata": {},
   "outputs": [],
   "source": [
    "obj.pressure_field(frequencies = 72, saveFig=False,axis=['xy','yz'],camera_angles=['diagonal_front'])"
   ]
  },
  {
   "cell_type": "markdown",
   "metadata": {},
   "source": [
    "# No Treatment"
   ]
  },
  {
   "cell_type": "code",
   "execution_count": null,
   "metadata": {},
   "outputs": [],
   "source": [
    "import femder as fd\n",
    "\n",
    "path_to_geo = r'Geom\\example_2_no_treatment.geo'\n",
    "AP = fd.AirProperties(c0 = 343)\n",
    "AC = fd.AlgControls(AP,20,200,1)\n",
    "\n",
    "S = fd.Source(\"spherical\")\n",
    "S.coord = np.array([[1.53/2,2.7+1.32,1.14],[-1.53/2,2.7+1.32,1.14]])\n",
    "S.q = np.array([[0.0001],[0.0001]])\n",
    "        \n",
    "\n",
    "\n",
    "R = fd.Receiver()\n",
    "R.star([0,3.07,1.14],0.07)\n",
    "grid = fd.GridImport3D(AP,path_to_geo,S=S,R=None,fmax = 200,num_freq=8,scale=1,order=1, load_method=\"meshio\", heal_shapes=False)\n",
    "# grid.plot_mesh(True)\n",
    "bc = fd.BC(AC,AP)\n",
    "bc.normalized_admittance(2,0.02)\n",
    "obj_n = fd.FEM3D(grid,S,R,AP,AC,bc)\n"
   ]
  },
  {
   "cell_type": "markdown",
   "metadata": {},
   "source": [
    "## Viz"
   ]
  },
  {
   "cell_type": "code",
   "execution_count": null,
   "metadata": {},
   "outputs": [],
   "source": [
    "obj_n.plot_problem()\n"
   ]
  },
  {
   "cell_type": "code",
   "execution_count": null,
   "metadata": {},
   "outputs": [],
   "source": [
    "obj_n.compute()\n",
    "obj_n.evaluate(R)"
   ]
  },
  {
   "cell_type": "code",
   "execution_count": null,
   "metadata": {},
   "outputs": [],
   "source": [
    "\n",
    "obj_n.pressure_field(frequencies = 83, saveFig=False,axis=['xy','yz'],camera_angles=['diagonal_front'])"
   ]
  },
  {
   "cell_type": "code",
   "execution_count": null,
   "metadata": {},
   "outputs": [],
   "source": [
    "fig = obj_n.plot_freq(average=True, jwrho=True)"
   ]
  }
 ],
 "metadata": {
  "kernelspec": {
   "display_name": "Python 3 (ipykernel)",
   "language": "python",
   "name": "python3"
  },
  "language_info": {
   "codemirror_mode": {
    "name": "ipython",
    "version": 3
   },
   "file_extension": ".py",
   "mimetype": "text/x-python",
   "name": "python",
   "nbconvert_exporter": "python",
   "pygments_lexer": "ipython3",
   "version": "3.10.4"
  }
 },
 "nbformat": 4,
 "nbformat_minor": 4
}
